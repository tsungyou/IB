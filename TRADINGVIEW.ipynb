{
 "cells": [
  {
   "cell_type": "code",
   "execution_count": 10,
   "metadata": {},
   "outputs": [
    {
     "name": "stdout",
     "output_type": "stream",
     "text": [
      "Defaulting to user installation because normal site-packages is not writeable\n",
      "Requirement already satisfied: selenium in /Users/tp_mini/Library/Python/3.9/lib/python/site-packages (4.23.1)\n",
      "Requirement already satisfied: trio~=0.17 in /Users/tp_mini/Library/Python/3.9/lib/python/site-packages (from selenium) (0.26.2)\n",
      "Requirement already satisfied: certifi>=2021.10.8 in /Users/tp_mini/Library/Python/3.9/lib/python/site-packages (from selenium) (2024.7.4)\n",
      "Requirement already satisfied: trio-websocket~=0.9 in /Users/tp_mini/Library/Python/3.9/lib/python/site-packages (from selenium) (0.11.1)\n",
      "Requirement already satisfied: urllib3[socks]<3,>=1.26 in /Users/tp_mini/Library/Python/3.9/lib/python/site-packages (from selenium) (2.2.2)\n",
      "Requirement already satisfied: websocket-client~=1.8 in /Users/tp_mini/Library/Python/3.9/lib/python/site-packages (from selenium) (1.8.0)\n",
      "Requirement already satisfied: typing_extensions~=4.9 in /Users/tp_mini/Library/Python/3.9/lib/python/site-packages (from selenium) (4.12.2)\n",
      "Requirement already satisfied: attrs>=23.2.0 in /Users/tp_mini/Library/Python/3.9/lib/python/site-packages (from trio~=0.17->selenium) (24.2.0)\n",
      "Requirement already satisfied: idna in /Users/tp_mini/Library/Python/3.9/lib/python/site-packages (from trio~=0.17->selenium) (3.8)\n",
      "Requirement already satisfied: exceptiongroup in /Users/tp_mini/Library/Python/3.9/lib/python/site-packages (from trio~=0.17->selenium) (1.2.2)\n",
      "Requirement already satisfied: sniffio>=1.3.0 in /Users/tp_mini/Library/Python/3.9/lib/python/site-packages (from trio~=0.17->selenium) (1.3.1)\n",
      "Requirement already satisfied: outcome in /Users/tp_mini/Library/Python/3.9/lib/python/site-packages (from trio~=0.17->selenium) (1.3.0.post0)\n",
      "Requirement already satisfied: sortedcontainers in /Users/tp_mini/Library/Python/3.9/lib/python/site-packages (from trio~=0.17->selenium) (2.4.0)\n",
      "Requirement already satisfied: wsproto>=0.14 in /Users/tp_mini/Library/Python/3.9/lib/python/site-packages (from trio-websocket~=0.9->selenium) (1.2.0)\n",
      "Requirement already satisfied: pysocks!=1.5.7,<2.0,>=1.5.6 in /Users/tp_mini/Library/Python/3.9/lib/python/site-packages (from urllib3[socks]<3,>=1.26->selenium) (1.7.1)\n",
      "Requirement already satisfied: h11<1,>=0.9.0 in /Users/tp_mini/Library/Python/3.9/lib/python/site-packages (from wsproto>=0.14->trio-websocket~=0.9->selenium) (0.14.0)\n",
      "\u001b[33mWARNING: You are using pip version 21.2.4; however, version 24.2 is available.\n",
      "You should consider upgrading via the '/Library/Developer/CommandLineTools/usr/bin/python3 -m pip install --upgrade pip' command.\u001b[0m\n"
     ]
    }
   ],
   "source": [
    "!pip3 install selenium"
   ]
  },
  {
   "cell_type": "code",
   "execution_count": 13,
   "metadata": {},
   "outputs": [
    {
     "name": "stdout",
     "output_type": "stream",
     "text": [
      "[]\n"
     ]
    }
   ],
   "source": [
    "from selenium import webdriver\n",
    "from selenium.webdriver.chrome.service import Service\n",
    "from selenium.webdriver.common.by import By\n",
    "from selenium.webdriver.chrome.options import Options\n",
    "from webdriver_manager.chrome import ChromeDriverManager\n",
    "import pandas as pd\n",
    "import time\n",
    "\n",
    "# Set up Chrome options\n",
    "chrome_options = Options()\n",
    "# chrome_options.add_argument(\"--headless\")  # Run in headless mode for no GUI\n",
    "chrome_options.add_argument(\"--no-sandbox\")\n",
    "chrome_options.add_argument(\"--disable-dev-shm-usage\")\n",
    "\n",
    "# Set up Chrome driver\n",
    "service = Service(ChromeDriverManager().install())\n",
    "driver = webdriver.Chrome(service=service, options=chrome_options)\n",
    "\n",
    "try:\n",
    "    # Navigate to the TradingView earnings page\n",
    "    driver.get(\"https://www.tradingview.com/markets/stocks-usa/earnings/\")\n",
    "\n",
    "    # Wait for the page to load (you might need to adjust the wait time)\n",
    "    time.sleep(10)\n",
    "\n",
    "    # Find the elements containing the earnings data\n",
    "    # This might need adjustments based on the actual page structure\n",
    "    elements = driver.find_elements(By.CSS_SELECTOR, '.tv-widget-earnings__item')\n",
    "    print(elements)\n",
    "    # Parse the data\n",
    "    earnings_data = []\n",
    "    for elem in elements:\n",
    "        symbol = elem.find_element(By.CSS_SELECTOR, '.tv-widget-earnings__symbol').text\n",
    "        date = elem.find_element(By.CSS_SELECTOR, '.tv-widget-earnings__date').text\n",
    "        estimate = elem.find_element(By.CSS_SELECTOR, '.tv-widget-earnings__estimate').text\n",
    "        actual = elem.find_element(By.CSS_SELECTOR, '.tv-widget-earnings__actual').text\n",
    "        earnings_data.append([symbol, date, estimate, actual])\n",
    "\n",
    "    # Create a DataFrame and save to CSV\n",
    "    df = pd.DataFrame(earnings_data, columns=['Symbol', 'Date', 'Estimate', 'Actual'])\n",
    "\n",
    "finally:\n",
    "    # driver.quit()\n",
    "    pass\n"
   ]
  },
  {
   "cell_type": "code",
   "execution_count": 41,
   "metadata": {},
   "outputs": [],
   "source": [
    "df = driver.find_elements(By.CLASS_NAME, 'tv-data-table__tbody')\n",
    "for i in df:\n",
    "    t = i.text\n",
    "list_ = t.split(\"\\n\")\n",
    "for i in list_: \n",
    "    if len(i) == 1: list_.remove(i)\n",
    "stock_list = []\n",
    "for i in range(0, len(list_), 3):\n",
    "    stock_list.append(list_[i][:-1])"
   ]
  },
  {
   "cell_type": "code",
   "execution_count": 69,
   "metadata": {},
   "outputs": [
    {
     "name": "stderr",
     "output_type": "stream",
     "text": [
      "[*********************100%***********************]  150 of 150 completed\n"
     ]
    }
   ],
   "source": [
    "import yfinance as yf\n",
    "df = yf.download(stock_list, start='2024-05-01')"
   ]
  },
  {
   "cell_type": "code",
   "execution_count": 70,
   "metadata": {},
   "outputs": [],
   "source": [
    "close = df['Adj Close']\n",
    "pct = close.pct_change(fill_method=None).dropna(how='all', axis=0)"
   ]
  },
  {
   "cell_type": "code",
   "execution_count": 71,
   "metadata": {},
   "outputs": [
    {
     "data": {
      "text/plain": [
       "Date\n",
       "2024-05-01 00:00:00+00:00    0.600\n",
       "2024-05-02 00:00:00+00:00    0.600\n",
       "2024-05-03 00:00:00+00:00    0.600\n",
       "2024-05-06 00:00:00+00:00    0.603\n",
       "2024-05-07 00:00:00+00:00    0.597\n",
       "                             ...  \n",
       "2024-08-21 00:00:00+00:00    0.101\n",
       "2024-08-22 00:00:00+00:00    0.094\n",
       "2024-08-23 00:00:00+00:00    0.104\n",
       "2024-08-26 00:00:00+00:00    0.097\n",
       "2024-08-27 00:00:00+00:00    0.092\n",
       "Name: AKTS, Length: 82, dtype: float64"
      ]
     },
     "execution_count": 71,
     "metadata": {},
     "output_type": "execute_result"
    }
   ],
   "source": [
    "close['AKTS']"
   ]
  },
  {
   "cell_type": "code",
   "execution_count": 73,
   "metadata": {},
   "outputs": [
    {
     "data": {
      "text/html": [
       "<div>\n",
       "<style scoped>\n",
       "    .dataframe tbody tr th:only-of-type {\n",
       "        vertical-align: middle;\n",
       "    }\n",
       "\n",
       "    .dataframe tbody tr th {\n",
       "        vertical-align: top;\n",
       "    }\n",
       "\n",
       "    .dataframe thead th {\n",
       "        text-align: right;\n",
       "    }\n",
       "</style>\n",
       "<table border=\"1\" class=\"dataframe\">\n",
       "  <thead>\n",
       "    <tr style=\"text-align: right;\">\n",
       "      <th></th>\n",
       "      <th>max</th>\n",
       "    </tr>\n",
       "    <tr>\n",
       "      <th>Ticker</th>\n",
       "      <th></th>\n",
       "    </tr>\n",
       "  </thead>\n",
       "  <tbody>\n",
       "    <tr>\n",
       "      <th>LTCH</th>\n",
       "      <td>0.500000</td>\n",
       "    </tr>\n",
       "    <tr>\n",
       "      <th>MAXN</th>\n",
       "      <td>0.489879</td>\n",
       "    </tr>\n",
       "    <tr>\n",
       "      <th>TSPH</th>\n",
       "      <td>0.477618</td>\n",
       "    </tr>\n",
       "    <tr>\n",
       "      <th>CREV</th>\n",
       "      <td>0.466775</td>\n",
       "    </tr>\n",
       "    <tr>\n",
       "      <th>PKDC</th>\n",
       "      <td>0.437500</td>\n",
       "    </tr>\n",
       "    <tr>\n",
       "      <th>...</th>\n",
       "      <td>...</td>\n",
       "    </tr>\n",
       "    <tr>\n",
       "      <th>PKBO</th>\n",
       "      <td>0.111111</td>\n",
       "    </tr>\n",
       "    <tr>\n",
       "      <th>PDCO</th>\n",
       "      <td>0.110722</td>\n",
       "    </tr>\n",
       "    <tr>\n",
       "      <th>FIVE</th>\n",
       "      <td>0.101960</td>\n",
       "    </tr>\n",
       "    <tr>\n",
       "      <th>PAHC</th>\n",
       "      <td>0.101526</td>\n",
       "    </tr>\n",
       "    <tr>\n",
       "      <th>VNTRF</th>\n",
       "      <td>0.100000</td>\n",
       "    </tr>\n",
       "  </tbody>\n",
       "</table>\n",
       "<p>84 rows × 1 columns</p>\n",
       "</div>"
      ],
      "text/plain": [
       "             max\n",
       "Ticker          \n",
       "LTCH    0.500000\n",
       "MAXN    0.489879\n",
       "TSPH    0.477618\n",
       "CREV    0.466775\n",
       "PKDC    0.437500\n",
       "...          ...\n",
       "PKBO    0.111111\n",
       "PDCO    0.110722\n",
       "FIVE    0.101960\n",
       "PAHC    0.101526\n",
       "VNTRF   0.100000\n",
       "\n",
       "[84 rows x 1 columns]"
      ]
     },
     "execution_count": 73,
     "metadata": {},
     "output_type": "execute_result"
    }
   ],
   "source": [
    "final = pd.DataFrame(pct.max(axis=0))\n",
    "final.columns = ['max']\n",
    "final[(final['max'] >= 0.1) & (final['max'] <= 0.5)].sort_values(by='max', ascending=False)"
   ]
  },
  {
   "cell_type": "code",
   "execution_count": 52,
   "metadata": {},
   "outputs": [
    {
     "data": {
      "text/plain": [
       "<Axes: xlabel='Date'>"
      ]
     },
     "execution_count": 52,
     "metadata": {},
     "output_type": "execute_result"
    },
    {
     "data": {
      "image/png": "[encoded data removed]",
      "text/plain": [
       "<Figure size 640x480 with 1 Axes>"
      ]
     },
     "metadata": {},
     "output_type": "display_data"
    }
   ],
   "source": [
    "close['AKTS'].plot()"
   ]
  }
 ],
 "metadata": {
  "kernelspec": {
   "display_name": "Python 3",
   "language": "python",
   "name": "python3"
  },
  "language_info": {
   "codemirror_mode": {
    "name": "ipython",
    "version": 3
   },
   "file_extension": ".py",
   "mimetype": "text/x-python",
   "name": "python",
   "nbconvert_exporter": "python",
   "pygments_lexer": "ipython3",
   "version": "3.9.6"
  }
 },
 "nbformat": 4,
 "nbformat_minor": 2
}
