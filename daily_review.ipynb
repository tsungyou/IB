{
 "cells": [
  {
   "cell_type": "code",
   "execution_count": 37,
   "metadata": {},
   "outputs": [
    {
     "data": {
      "text/plain": [
       "[]"
      ]
     },
     "execution_count": 37,
     "metadata": {},
     "output_type": "execute_result"
    }
   ],
   "source": [
    "import pandas as pd\n",
    "from datetime import datetime\n",
    "import threading\n",
    "import time\n",
    "from tqdm import tqdm\n",
    "from scipy import stats\n",
    "import numpy as np\n",
    "import psycopg2\n",
    "\n",
    "def backtest_code(code, benchmark = 2):\n",
    "    rolling = 5\n",
    "    benchmark_index = \"QQQ\"\n",
    "    \n",
    "    pivoted = res[[code, benchmark_index]]\n",
    "    pivoted.ffill()\n",
    "    ret = pivoted.pct_change(fill_method=None)\n",
    "    try:\n",
    "        ret['stock_price'] = pivoted[code]\n",
    "        ret['index_price'] = pivoted[benchmark_index]\n",
    "        ret['ret_diff'] = ret[code] - ret[benchmark_index]\n",
    "        # type 1\n",
    "        # ret['ret_diff_std'] = ret['ret_diff'].rolling(rolling).std() * 100\n",
    "        # ret['ret_diff_mean'] = ret['ret_diff'].rolling(rolling).mean() * 100\n",
    "        # ret['stdize_ret_diff'] = abs((ret['ret_diff'] - ret['ret_diff_mean'])/ret['ret_diff_std'])\n",
    "        \n",
    "        # type 2\n",
    "        ret['ret_diff_std'] = ret['ret_diff'].rolling(rolling).std()\n",
    "        ret['ret_diff_mean'] = ret['ret_diff'].rolling(rolling).mean()\n",
    "        ret['stdize_ret_diff'] = abs((ret['ret_diff'] - ret['ret_diff_mean'])*ret['ret_diff_std'])*10000\n",
    "\n",
    "        # # check direction\n",
    "        ret['lag10'] = ret['stock_price'].shift(5)\n",
    "        ret['change_stock'] = (ret['stock_price'] - ret['lag10'])/ret['lag10']\n",
    "        ret['direction'] = ret.apply(lambda x: -1 if x['stock_price'] - x['lag10'] > 0 else 1, axis=1)\n",
    "        \n",
    "        # # check if the direction are the same, if not, tned to not being a mean reversion\n",
    "        ret['lag10_twii'] = ret['index_price'].shift(5)\n",
    "        ret['change_twii'] = (ret['index_price'] - ret['lag10_twii'])/ret['lag10_twii']\n",
    "        ret['filter_1'] = ret.apply(lambda x: 1 if abs(x['change_stock'] - x['change_twii']) < abs(x['change_stock']) else 0, axis=1)\n",
    "        ret['filter_2'] = ret.apply(lambda x: 1 if abs(x['change_stock']) < abs(x['change_twii']) else 1, axis=1)\n",
    "            \n",
    "        # check raise\n",
    "        ret[f'{code}_lag60'] = ret['stock_price'].shift(-12)\n",
    "        ret['target_60mins'] = (ret[f'{code}_lag60'] - ret['stock_price'])/ret['stock_price'] * ret['direction']\n",
    "        ret = ret[(ret['stdize_ret_diff'] >= benchmark) & (ret['filter_1'] == 1) & (ret['filter_2'] == 1)][['target_60mins', 'stdize_ret_diff']].dropna()\n",
    "        ret['code'] = code\n",
    "        return ret\n",
    "    except Exception as e:\n",
    "        print(e)\n",
    "\n",
    "DB_HOST = 'localhost'\n",
    "DB_NAME = 'us'\n",
    "DB_USER = 'postgres'\n",
    "DB_PASS = 'buddyrich134'\n",
    "conn = psycopg2.connect(host=DB_HOST, dbname=DB_NAME, user=DB_USER, password=DB_PASS)\n",
    "cursor = conn.cursor()\n",
    "cursor.execute(\"SELECT da, code, cl from stock_price;\")\n",
    "conn.commit()\n",
    "df_list = cursor.fetchall()\n",
    "df = pd.DataFrame(df_list, columns=['da', 'code', 'cl'])\n",
    "res = df.pivot(values='cl', columns='code', index='da')\n",
    "\n",
    "\n",
    "code_list=list(set(res.columns))\n",
    "\n",
    "dfs = []\n",
    "for code in code_list:\n",
    "    if code == 'QQQ': continue\n",
    "    df = backtest_code(code)\n",
    "    if len(df) == 0: continue\n",
    "    dfs.append(df)\n",
    "dfs"
   ]
  }
 ],
 "metadata": {
  "kernelspec": {
   "display_name": "Python 3",
   "language": "python",
   "name": "python3"
  },
  "language_info": {
   "codemirror_mode": {
    "name": "ipython",
    "version": 3
   },
   "file_extension": ".py",
   "mimetype": "text/x-python",
   "name": "python",
   "nbconvert_exporter": "python",
   "pygments_lexer": "ipython3",
   "version": "3.9.6"
  }
 },
 "nbformat": 4,
 "nbformat_minor": 2
}
