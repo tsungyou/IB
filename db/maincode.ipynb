{
 "cells": [
  {
   "cell_type": "code",
   "execution_count": 8,
   "metadata": {},
   "outputs": [],
   "source": [
    "import pandas as pd\n",
    "import psycopg2\n",
    "\n",
    "df = pd.read_parquet('US500.parquet')\n",
    "codelist = df.columns\n",
    "DB_HOST = 'localhost'\n",
    "DB_NAME = 'us'\n",
    "DB_USER = 'postgres'\n",
    "DB_PASS = 'buddyrich134'\n",
    "conn = psycopg2.connect(host=DB_HOST, dbname=DB_NAME, user=DB_USER, password=DB_PASS)\n",
    "cursor = conn.cursor()\n",
    "\n",
    "codelist = [[i] + ['us500'] for i in codelist]\n",
    "cursor.executemany(\"INSERT INTO public.maincode (code , listed) VALUES (%s, %s)\", codelist)\n",
    "conn.commit()"
   ]
  },
  {
   "cell_type": "code",
   "execution_count": 10,
   "metadata": {},
   "outputs": [],
   "source": [
    "import pandas as pd\n",
    "import psycopg2\n",
    "\n",
    "df = pd.read_parquet('US100.parquet')\n",
    "codelist = df.columns\n",
    "DB_HOST = 'localhost'\n",
    "DB_NAME = 'us'\n",
    "DB_USER = 'postgres'\n",
    "DB_PASS = 'buddyrich134'\n",
    "conn = psycopg2.connect(host=DB_HOST, dbname=DB_NAME, user=DB_USER, password=DB_PASS)\n",
    "cursor = conn.cursor()\n",
    "\n",
    "codelist = [[i] + ['us100'] for i in codelist]\n",
    "cursor.executemany(\"INSERT INTO public.maincode (code , listed) VALUES (%s, %s)\", codelist)\n",
    "conn.commit()"
   ]
  }
 ],
 "metadata": {
  "kernelspec": {
   "display_name": "Python 3",
   "language": "python",
   "name": "python3"
  },
  "language_info": {
   "codemirror_mode": {
    "name": "ipython",
    "version": 3
   },
   "file_extension": ".py",
   "mimetype": "text/x-python",
   "name": "python",
   "nbconvert_exporter": "python",
   "pygments_lexer": "ipython3",
   "version": "3.9.6"
  }
 },
 "nbformat": 4,
 "nbformat_minor": 2
}
